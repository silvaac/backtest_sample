{
 "cells": [
  {
   "cell_type": "code",
   "execution_count": null,
   "metadata": {},
   "outputs": [],
   "source": [
    "#| default_exp risk.sig_model"
   ]
  },
  {
   "cell_type": "code",
   "execution_count": null,
   "metadata": {},
   "outputs": [],
   "source": [
    "#| hide\n",
    "%load_ext autoreload\n",
    "%autoreload 2"
   ]
  },
  {
   "cell_type": "markdown",
   "metadata": {},
   "source": [
    "# Volatility forecast"
   ]
  },
  {
   "cell_type": "markdown",
   "metadata": {},
   "source": [
    "Returns the volatility of the asset to be traded"
   ]
  },
  {
   "cell_type": "code",
   "execution_count": null,
   "metadata": {},
   "outputs": [],
   "source": [
    "#| export\n",
    "import pandas as pd\n",
    "import numpy as np"
   ]
  },
  {
   "cell_type": "code",
   "execution_count": null,
   "metadata": {},
   "outputs": [],
   "source": [
    "#| export\n",
    "class sig_model():\n",
    "    def __init__(self,data,param):\n",
    "        self.wsig = param['wvol']\n",
    "        self.ohlcv = data\n",
    "    def risk_hat(self):\n",
    "        \n",
    "        r = np.diff(np.log(self.ohlcv[:,4]))\n",
    "        \n",
    "        # Calculate the mean of the recent returns over the moving average window\n",
    "        vol = np.std(r[-self.wsig:])\n",
    "        \n",
    "        out ={}\n",
    "        out['vol_hat']  = float(np.round(vol,4))\n",
    "        return out"
   ]
  },
  {
   "cell_type": "markdown",
   "metadata": {},
   "source": [
    "## Example"
   ]
  },
  {
   "cell_type": "code",
   "execution_count": null,
   "metadata": {},
   "outputs": [
    {
     "name": "stderr",
     "output_type": "stream",
     "text": [
      "\r[*********************100%***********************]  1 of 1 completed"
     ]
    },
    {
     "name": "stdout",
     "output_type": "stream",
     "text": [
      "{'vol_hat': 0.0438}\n",
      "{'vol_hat': 0.0438}\n"
     ]
    },
    {
     "name": "stderr",
     "output_type": "stream",
     "text": [
      "\n"
     ]
    }
   ],
   "source": [
    "#| eval: false\n",
    "\n",
    "# Get data\n",
    "from backtest_sample.data_interface import get_data\n",
    "import_module = get_data()\n",
    "df = import_module('BTC-USD').sim_data()\n",
    "# Forecast\n",
    "prm = {}\n",
    "prm['wvol'] = 60\n",
    "riskHat = sig_model(df.values,prm)\n",
    "print(riskHat.risk_hat())"
   ]
  }
 ],
 "metadata": {},
 "nbformat": 4,
 "nbformat_minor": 2
}
