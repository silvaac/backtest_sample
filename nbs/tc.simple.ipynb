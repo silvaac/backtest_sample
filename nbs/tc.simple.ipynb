{
 "cells": [
  {
   "cell_type": "code",
   "execution_count": null,
   "metadata": {},
   "outputs": [],
   "source": [
    "#| default_exp tc.simple"
   ]
  },
  {
   "cell_type": "code",
   "execution_count": null,
   "metadata": {},
   "outputs": [],
   "source": [
    "#| hide\n",
    "%load_ext autoreload\n",
    "%autoreload 2"
   ]
  },
  {
   "cell_type": "markdown",
   "metadata": {},
   "source": [
    "# First TC model"
   ]
  },
  {
   "cell_type": "markdown",
   "metadata": {},
   "source": [
    "Sample TC model with a trade inpact model that is linear with the size of the number of shares/contracts. Denominator is the median traling volume and the numberator is the trade size. This model has not been calibrated and should not be assumed correct."
   ]
  },
  {
   "cell_type": "code",
   "execution_count": null,
   "metadata": {},
   "outputs": [],
   "source": [
    "#| export\n",
    "import pandas as pd\n",
    "import numpy as np"
   ]
  },
  {
   "cell_type": "code",
   "execution_count": null,
   "metadata": {},
   "outputs": [],
   "source": [
    "#| export\n",
    "class simple:\n",
    "    def __init__(self, data, param):\n",
    "        \"\"\"\n",
    "        Initialize the simple class with data and parameters.\n",
    "        \n",
    "        Parameters:\n",
    "        - data: A numpy array containing OHLCV (Open, High, Low, Close, Volume) data.\n",
    "        - param: A dictionary containing parameters 'tc_slope' and 'tc_bias'.\n",
    "        \"\"\"\n",
    "        self.ohlcv = data  # OHLCV data, assumes a specific format\n",
    "        self.slope = param['tc_slope']  # Slope parameter for transaction cost calculation\n",
    "        self.bias = param['tc_bias']    # Bias parameter for transaction cost calculation\n",
    "\n",
    "    def TC(self, trade):\n",
    "        \"\"\"\n",
    "        Calculate the transaction cost (TC) based on the given trade volume.\n",
    "        \n",
    "        Parameters:\n",
    "        - trade: The trade volume.\n",
    "        \n",
    "        Returns:\n",
    "        - A dictionary containing the calculated transaction cost.\n",
    "        \"\"\"\n",
    "        V = self.ohlcv[:, 5]  # Extract the volume data from the OHLCV array\n",
    "        p = self.ohlcv[:, 4]  # Extract the price data from the OHLCV array\n",
    "        \n",
    "        # The data is daily. Assume a 24-hour session.\n",
    "        v = V / (24 * 60)  # Calculate the volume per minute\n",
    "        vm = np.median(v[-40:])  # Calculate the median volume per minute over the last 40 periods\n",
    "        dp = np.diff(p)  # Calculate the price differences\n",
    "        ss = np.std(dp[-40:])  # Calculate the standard deviation of price differences over the last 40 periods\n",
    "        \n",
    "        out = {}\n",
    "        # Calculate the transaction cost using the slope, standard deviation, trade volume, and bias\n",
    "        out['TC'] = float(self.slope * (ss * np.abs(trade) / vm) + self.bias)\n",
    "        \n",
    "        return out\n"
   ]
  },
  {
   "cell_type": "markdown",
   "metadata": {},
   "source": [
    "## Example"
   ]
  },
  {
   "cell_type": "code",
   "execution_count": null,
   "metadata": {},
   "outputs": [
    {
     "name": "stderr",
     "output_type": "stream",
     "text": [
      "\r[*********************100%***********************]  1 of 1 completed"
     ]
    },
    {
     "name": "stderr",
     "output_type": "stream",
     "text": [
      "\n"
     ]
    }
   ],
   "source": [
    "#| eval: false\n",
    "\n",
    "# Get data\n",
    "from backtest_sample.data_interface import get_data\n",
    "import_module = get_data()\n",
    "df = import_module('BTC-USD').sim_data()"
   ]
  },
  {
   "cell_type": "code",
   "execution_count": null,
   "metadata": {},
   "outputs": [
    {
     "name": "stdout",
     "output_type": "stream",
     "text": [
      "{'TC': 813.5629449701777}\n",
      "{'TC': 813.5629449701777}\n"
     ]
    }
   ],
   "source": [
    "#| eval: false\n",
    "# TC in the begging\n",
    "prm = {}\n",
    "prm['tc_slope'] = 1e3\n",
    "prm['tc_bias'] = 100\n",
    "tc = simple(df.values[:100,:],prm)\n",
    "print(tc.TC(1000))"
   ]
  },
  {
   "cell_type": "code",
   "execution_count": null,
   "metadata": {},
   "outputs": [
    {
     "name": "stdout",
     "output_type": "stream",
     "text": [
      "{'TC': 125.51845817251021}\n",
      "{'TC': 125.51845817251021}\n"
     ]
    }
   ],
   "source": [
    "#| eval: false\n",
    "# TC in the end\n",
    "prm = {}\n",
    "prm['tc_slope'] = 1e3\n",
    "prm['tc_bias'] = 100\n",
    "tc = simple(df.values[-100:,:],prm)\n",
    "print(tc.TC(300))"
   ]
  }
 ],
 "metadata": {},
 "nbformat": 4,
 "nbformat_minor": 2
}
