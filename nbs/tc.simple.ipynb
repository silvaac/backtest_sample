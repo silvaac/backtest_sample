{
 "cells": [
  {
   "cell_type": "code",
   "execution_count": null,
   "metadata": {},
   "outputs": [],
   "source": [
    "#| default_exp tc.simple"
   ]
  },
  {
   "cell_type": "code",
   "execution_count": null,
   "metadata": {},
   "outputs": [
    {
     "name": "stdout",
     "output_type": "stream",
     "text": [
      "The autoreload extension is already loaded. To reload it, use:\n",
      "  %reload_ext autoreload\n",
      "The autoreload extension is already loaded. To reload it, use:\n",
      "  %reload_ext autoreload\n"
     ]
    }
   ],
   "source": [
    "#| hide\n",
    "%load_ext autoreload\n",
    "%autoreload 2"
   ]
  },
  {
   "cell_type": "markdown",
   "metadata": {},
   "source": [
    "# First TC model"
   ]
  },
  {
   "cell_type": "markdown",
   "metadata": {},
   "source": [
    "Sample TC model with a trade inpact model that is linear with the size of the number of shares/contracts. Denominator is the median traling volume and the numberator is the trade size. This model has not been calibrated and should not be assumed correct."
   ]
  },
  {
   "cell_type": "code",
   "execution_count": null,
   "metadata": {},
   "outputs": [],
   "source": [
    "#| export\n",
    "import pandas as pd\n",
    "import numpy as np"
   ]
  },
  {
   "cell_type": "code",
   "execution_count": null,
   "metadata": {},
   "outputs": [],
   "source": [
    "#| export\n",
    "class simple():\n",
    "    def __init__(self,data,param):\n",
    "        self.ohlcv = data # this assumes a very specific format... note, more sofisticated code should take this into account\n",
    "        self.slope = param['tc_slope']\n",
    "        self.bias  = param['tc_bias']\n",
    "    def TC(self,trade):\n",
    "        V = self.ohlcv[:,5]\n",
    "        p = self.ohlcv[:,4]\n",
    "        # The data is daily. I assume a 24 session.\n",
    "        v = V/(24*60)\n",
    "        vm = np.median(v[-40:])\n",
    "        dp = np.diff(p)\n",
    "        ss = np.std(dp[-40:])\n",
    "        return self.slope*(ss*np.abs(trade)/vm)+self.bias"
   ]
  },
  {
   "cell_type": "markdown",
   "metadata": {},
   "source": [
    "## Example"
   ]
  },
  {
   "cell_type": "code",
   "execution_count": null,
   "metadata": {},
   "outputs": [
    {
     "name": "stderr",
     "output_type": "stream",
     "text": [
      "\r[*********************100%***********************]  1 of 1 completed"
     ]
    },
    {
     "name": "stderr",
     "output_type": "stream",
     "text": [
      "\n"
     ]
    }
   ],
   "source": [
    "#| eval: false\n",
    "\n",
    "# Get data\n",
    "from backtest_sample.data_interface import get_data\n",
    "import_module = get_data()\n",
    "df = import_module('BTC-USD').sim_data()"
   ]
  },
  {
   "cell_type": "code",
   "execution_count": null,
   "metadata": {},
   "outputs": [
    {
     "name": "stdout",
     "output_type": "stream",
     "text": [
      "813.5629449701777\n",
      "813.5629449701777\n"
     ]
    }
   ],
   "source": [
    "#| eval: false\n",
    "# TC in the begging\n",
    "prm = {}\n",
    "prm['tc_slope'] = 1e3\n",
    "prm['tc_bias'] = 100\n",
    "tc = simple(df.values[:100,:],prm)\n",
    "print(tc.TC(1000))"
   ]
  },
  {
   "cell_type": "code",
   "execution_count": null,
   "metadata": {},
   "outputs": [
    {
     "name": "stdout",
     "output_type": "stream",
     "text": [
      "125.52646522553687\n",
      "125.52646522553687\n"
     ]
    }
   ],
   "source": [
    "#| eval: false\n",
    "# TC in the end\n",
    "prm = {}\n",
    "prm['tc_slope'] = 1e3\n",
    "prm['tc_bias'] = 100\n",
    "tc = simple(df.values[-100:,:],prm)\n",
    "print(tc.TC(300))"
   ]
  }
 ],
 "metadata": {},
 "nbformat": 4,
 "nbformat_minor": 2
}
