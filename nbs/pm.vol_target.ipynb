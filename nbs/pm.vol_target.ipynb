{
 "cells": [
  {
   "cell_type": "code",
   "execution_count": null,
   "metadata": {},
   "outputs": [],
   "source": [
    "#| default_exp pm.vol_target"
   ]
  },
  {
   "cell_type": "code",
   "execution_count": null,
   "metadata": {},
   "outputs": [],
   "source": [
    "#| hide\n",
    "%load_ext autoreload\n",
    "%autoreload 2"
   ]
  },
  {
   "cell_type": "markdown",
   "metadata": {},
   "source": [
    "# Portfolio mananger "
   ]
  },
  {
   "cell_type": "markdown",
   "metadata": {},
   "source": [
    "Like a \"human\" portfolio mananger the job of this code is to take in predictions and output target positions. This particular PM allocates using vanilla volatility targeting ideas. "
   ]
  },
  {
   "cell_type": "code",
   "execution_count": null,
   "metadata": {},
   "outputs": [],
   "source": [
    "#| export\n",
    "import pandas as pd\n",
    "import numpy as np"
   ]
  },
  {
   "cell_type": "code",
   "execution_count": null,
   "metadata": {},
   "outputs": [],
   "source": [
    "#| export\n",
    "class vol_target():\n",
    "    def __init__(self,data,param):\n",
    "        self.ohlcv = data # this code assumes a very special data array for simplicity\n",
    "        self.target_vol = param['target_vol']\n",
    "        self.AUM = param['AUM']\n",
    "    def allocation(self,expected_return,volatility,price=None):\n",
    "        if price is None:\n",
    "            price = self.ohlcv[-1,4] \n",
    "        t_scale = round(self.AUM*self.target_vol /price,4)\n",
    "        n_new = round(t_scale*expected_return/volatility)\n",
    "        out={}\n",
    "        out['N'] = n_new\n",
    "        return out"
   ]
  },
  {
   "cell_type": "markdown",
   "metadata": {},
   "source": [
    "## Example"
   ]
  },
  {
   "cell_type": "code",
   "execution_count": null,
   "metadata": {},
   "outputs": [
    {
     "name": "stderr",
     "output_type": "stream",
     "text": [
      "\r[*********************100%***********************]  1 of 1 completed"
     ]
    },
    {
     "name": "stderr",
     "output_type": "stream",
     "text": [
      "\n"
     ]
    }
   ],
   "source": [
    "#| eval: false\n",
    "\n",
    "# Get data\n",
    "from backtest_sample.data_interface import get_data\n",
    "import_module = get_data()\n",
    "df = import_module('BTC-USD').sim_data()"
   ]
  },
  {
   "cell_type": "code",
   "execution_count": null,
   "metadata": {},
   "outputs": [
    {
     "name": "stdout",
     "output_type": "stream",
     "text": [
      "{'N': 20}\n",
      "{'N': 20}\n"
     ]
    }
   ],
   "source": [
    "#| eval: false\n",
    "prm = {}\n",
    "prm['target_vol'] = 0.005\n",
    "prm['AUM'] = 10e6\n",
    "vt = vol_target(df.values,prm).allocation(1,0.04)\n",
    "print(vt)"
   ]
  }
 ],
 "metadata": {},
 "nbformat": 4,
 "nbformat_minor": 2
}
