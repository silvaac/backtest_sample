{
 "cells": [
  {
   "cell_type": "code",
   "execution_count": null,
   "metadata": {},
   "outputs": [],
   "source": [
    "#| default_exp data_interface"
   ]
  },
  {
   "cell_type": "code",
   "execution_count": null,
   "metadata": {},
   "outputs": [],
   "source": [
    "#| hide\n",
    "%load_ext autoreload\n",
    "%autoreload 2"
   ]
  },
  {
   "cell_type": "markdown",
   "metadata": {},
   "source": [
    "# Main data interface"
   ]
  },
  {
   "cell_type": "markdown",
   "metadata": {},
   "source": [
    "Idea is collect the different interface into one place. If one wants to code one more interface, one just needs to add code to \"data\" folder."
   ]
  },
  {
   "cell_type": "code",
   "execution_count": null,
   "metadata": {},
   "outputs": [],
   "source": [
    "#| export\n",
    "import importlib\n",
    "import os"
   ]
  },
  {
   "cell_type": "code",
   "execution_count": null,
   "metadata": {},
   "outputs": [],
   "source": [
    "#| export\n",
    "def get_class(source,where):\n",
    "    \"\"\"\n",
    "    Dynamically import a class from a file.\n",
    "    \n",
    "    Parameters:\n",
    "    - source: The name of the class within data (and the file without .py extension).\n",
    "    Note the convention: class and file name are equal\n",
    "    - where: folder path\n",
    "    \n",
    "    Returns:\n",
    "    - Ouput the class.\n",
    "    \"\"\"\n",
    "    # Construct the module name from the folder path and class name\n",
    "    module_name = f\"backtest_sample.{where}.{source}\"\n",
    "    \n",
    "    try:\n",
    "        # Dynamically import the module\n",
    "        module = importlib.import_module(module_name)\n",
    "        \n",
    "        # Get the class from the module\n",
    "        cls = getattr(module, source)\n",
    "        \n",
    "        # Create an instance of the class\n",
    "        #instance = cls()\n",
    "        \n",
    "        # Call the output method and return the result\n",
    "        return cls\n",
    "    except ModuleNotFoundError:\n",
    "        raise ValueError(f\"Module '{module_name}' not found.\")\n",
    "    except AttributeError:\n",
    "        raise ValueError(f\"Class '{where}' not found in module '{module_name}'.\")\n",
    "\n",
    "\n"
   ]
  },
  {
   "cell_type": "code",
   "execution_count": null,
   "metadata": {},
   "outputs": [],
   "source": [
    "#| export\n",
    "def get_data(source=\"yahoo\",where=\"data\"):\n",
    "    return get_class(source,where)\n",
    "\n",
    "def get_er(source=\"ma_model\",where='er'):\n",
    "    return get_class(source,where)\n",
    "\n",
    "def get_risk(source=\"sig_model\",where='risk'):\n",
    "    return get_class(source,where)\n",
    "\n",
    "def get_tc(source=\"simple\",where='tc'):\n",
    "    return get_class(source,where)"
   ]
  },
  {
   "cell_type": "markdown",
   "metadata": {},
   "source": [
    "## Example"
   ]
  },
  {
   "cell_type": "code",
   "execution_count": null,
   "metadata": {},
   "outputs": [
    {
     "name": "stderr",
     "output_type": "stream",
     "text": [
      "\r[*********************100%***********************]  1 of 1 completed"
     ]
    },
    {
     "name": "stdout",
     "output_type": "stream",
     "text": [
      "                    Open          High           Low         Close     Adj Close       Volume\n",
      "Date                                                                                         \n",
      "2014-09-17    465.864014    468.174011    452.421997    457.334015    457.334015     21056800\n",
      "2014-09-18    456.859985    456.859985    413.104004    424.440002    424.440002     34483200\n",
      "2014-09-19    424.102997    427.834991    384.532013    394.795990    394.795990     37919700\n",
      "2014-09-20    394.673004    423.295990    389.882996    408.903992    408.903992     36863600\n",
      "2014-09-21    408.084991    412.425995    393.181000    398.821014    398.821014     26580100\n",
      "...                  ...           ...           ...           ...           ...          ...\n",
      "2024-09-12  57343.171875  58534.359375  57330.101562  58127.011719  58127.011719  33835707949\n",
      "2024-09-13  58130.324219  60648.023438  57650.113281  60571.300781  60571.300781  32490528356\n",
      "2024-09-14  60569.117188  60656.722656  59517.882812  60005.121094  60005.121094  16428405496\n",
      "2024-09-15  60000.726562  60381.917969  58696.308594  59182.835938  59182.835938  18120960867\n",
      "2024-09-16  59141.949219  59195.609375  57567.402344  57781.625000  57781.625000  33706545152\n",
      "\n",
      "[3653 rows x 6 columns]\n",
      "                    Open          High           Low         Close     Adj Close       Volume\n",
      "Date                                                                                         \n",
      "2014-09-17    465.864014    468.174011    452.421997    457.334015    457.334015     21056800\n",
      "2014-09-18    456.859985    456.859985    413.104004    424.440002    424.440002     34483200\n",
      "2014-09-19    424.102997    427.834991    384.532013    394.795990    394.795990     37919700\n",
      "2014-09-20    394.673004    423.295990    389.882996    408.903992    408.903992     36863600\n",
      "2014-09-21    408.084991    412.425995    393.181000    398.821014    398.821014     26580100\n",
      "...                  ...           ...           ...           ...           ...          ...\n",
      "2024-09-12  57343.171875  58534.359375  57330.101562  58127.011719  58127.011719  33835707949\n",
      "2024-09-13  58130.324219  60648.023438  57650.113281  60571.300781  60571.300781  32490528356\n",
      "2024-09-14  60569.117188  60656.722656  59517.882812  60005.121094  60005.121094  16428405496\n",
      "2024-09-15  60000.726562  60381.917969  58696.308594  59182.835938  59182.835938  18120960867\n",
      "2024-09-16  59141.949219  59195.609375  57567.402344  57781.625000  57781.625000  33706545152\n",
      "\n",
      "[3653 rows x 6 columns]\n"
     ]
    },
    {
     "name": "stderr",
     "output_type": "stream",
     "text": [
      "\n"
     ]
    }
   ],
   "source": [
    "#| eval: false\n",
    "from backtest_sample.data_interface import get_data\n",
    "import_module = get_data()\n",
    "df = import_module('BTC-USD').sim_data()\n",
    "print(df)"
   ]
  },
  {
   "cell_type": "code",
   "execution_count": null,
   "metadata": {},
   "outputs": [
    {
     "name": "stdout",
     "output_type": "stream",
     "text": [
      "{'y_hat': 0.2648}\n",
      "{'y_hat': 0.2648}\n"
     ]
    }
   ],
   "source": [
    "#| eval: false\n",
    "er = get_er()\n",
    "prm = {}\n",
    "prm['mawin'] = 10\n",
    "prm['sdwin'] = 30\n",
    "yHat = er(df.values,prm)\n",
    "print(yHat.y_hat())"
   ]
  },
  {
   "cell_type": "code",
   "execution_count": null,
   "metadata": {},
   "outputs": [
    {
     "name": "stdout",
     "output_type": "stream",
     "text": [
      "{'vol_hat': 0.0301}\n",
      "{'vol_hat': 0.0301}\n"
     ]
    }
   ],
   "source": [
    "#| eval: false\n",
    "risk = get_risk()\n",
    "prm = {}\n",
    "prm['wvol'] = 60\n",
    "riskHat = risk(df.values,prm)\n",
    "print(riskHat.risk_hat())"
   ]
  },
  {
   "cell_type": "code",
   "execution_count": null,
   "metadata": {},
   "outputs": [
    {
     "name": "stdout",
     "output_type": "stream",
     "text": [
      "108.50953303722186\n",
      "108.50953303722186\n"
     ]
    }
   ],
   "source": [
    "#| eval: false\n",
    "tTc = get_tc()\n",
    "prm = {}\n",
    "prm['tc_slope'] = 1e3\n",
    "prm['tc_bias'] = 100\n",
    "prm['wvol'] = 60\n",
    "tc = tTc(df.values,prm)\n",
    "print(tc.TC(100))"
   ]
  }
 ],
 "metadata": {},
 "nbformat": 4,
 "nbformat_minor": 2
}
