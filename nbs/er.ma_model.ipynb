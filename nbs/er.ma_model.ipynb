{
 "cells": [
  {
   "cell_type": "code",
   "execution_count": 1,
   "metadata": {},
   "outputs": [],
   "source": [
    "#| default_exp er.ma_model"
   ]
  },
  {
   "cell_type": "code",
   "execution_count": 2,
   "metadata": {},
   "outputs": [],
   "source": [
    "#| hide\n",
    "%load_ext autoreload\n",
    "%autoreload 2"
   ]
  },
  {
   "cell_type": "markdown",
   "metadata": {},
   "source": [
    "# Moving average model"
   ]
  },
  {
   "cell_type": "markdown",
   "metadata": {},
   "source": [
    "To illustrate a backtesting algorithm, a simple prediction algorithm is presented. Aside from the simplicity of the prediction algorithm, it's assumed that predictions are made at the same frequency as the input data.\n",
    "\n",
    "To create an expected return (ER) model (forecasting model), data and the exact data format are required. Here, both data and param are assumed to be dictionaries, facilitating the development of complex algorithms that require various data items.\n",
    "\n",
    "The convention is that any ER will accept data and a param, and will consistently generate an output dictionary with a \"yHat\" element and possibly others that can be utilized in more complex algorithms (e.g., when creating allocation or risk).\n"
   ]
  },
  {
   "cell_type": "code",
   "execution_count": 3,
   "metadata": {},
   "outputs": [],
   "source": [
    "#| export\n",
    "import pandas as pd\n",
    "import numpy as np"
   ]
  },
  {
   "cell_type": "code",
   "execution_count": 4,
   "metadata": {},
   "outputs": [],
   "source": [
    "#| export\n",
    "\n",
    "class ma_model:\n",
    "    def __init__(self, data, param):\n",
    "        \"\"\"\n",
    "        Initialize the moving average (ma) class with data and parameters.\n",
    "        \n",
    "        Parameters:\n",
    "        - data: A DataFrame containing OHLCV (Open, High, Low, Close, Volume) data.\n",
    "        - param: A dictionary containing parameters 'mawin' (moving average window) and 'sdwin' (standard deviation window).\n",
    "        \"\"\"\n",
    "        self.mawin = param['mawin']  # Moving average window size\n",
    "        self.sdwin = param['sdwin']  # Standard deviation window size\n",
    "        self.ohlcv = data  # OHLCAV data: array\n",
    "\n",
    "    def y_hat(self):\n",
    "        \"\"\"\n",
    "        Calculate the yHat value, which is a normalized measure of the recent returns.\n",
    "        \n",
    "        Returns:\n",
    "        - A single value representing the normalized recent returns.\n",
    "        \"\"\"\n",
    "        # Calculate the log returns of the adjusted close prices\n",
    "        r = np.diff(np.log(self.ohlcv[:,4]))\n",
    "        \n",
    "        # Calculate the mean of the recent returns over the moving average window\n",
    "        mu = np.mean(r[-self.mawin:])\n",
    "        \n",
    "        # Calculate the standard deviation of the recent returns over the standard deviation window\n",
    "        sig = np.std(r[-self.sdwin:])\n",
    "        \n",
    "        # Return the hyperbolic tangent of the ratio of mean to standard deviation\n",
    "        # in order to keep the values between +/-1\n",
    "        out ={}\n",
    "        out['y_hat']    = float(np.round(np.tanh(mu / sig),4))\n",
    "        return out"
   ]
  },
  {
   "cell_type": "markdown",
   "metadata": {},
   "source": [
    "## Example"
   ]
  },
  {
   "cell_type": "code",
   "execution_count": 5,
   "metadata": {},
   "outputs": [
    {
     "name": "stderr",
     "output_type": "stream",
     "text": [
      "\r[*********************100%***********************]  1 of 1 completed"
     ]
    },
    {
     "name": "stdout",
     "output_type": "stream",
     "text": [
      "{'y_hat': 0.4312}\n",
      "{'y_hat': 0.4312}\n"
     ]
    },
    {
     "name": "stderr",
     "output_type": "stream",
     "text": [
      "\n"
     ]
    }
   ],
   "source": [
    "#| eval: false\n",
    "\n",
    "# Get data\n",
    "from backtest_sample.data_interface import get_data\n",
    "import_module = get_data()\n",
    "df = import_module('BTC-USD').sim_data()\n",
    "# Forecast\n",
    "prm = {}\n",
    "prm['mawin'] = 10\n",
    "prm['sdwin'] = 30\n",
    "yHat = ma_model(df.values,prm)\n",
    "print(yHat.y_hat())"
   ]
  }
 ],
 "metadata": {
  "language_info": {
   "name": "python"
  }
 },
 "nbformat": 4,
 "nbformat_minor": 2
}
