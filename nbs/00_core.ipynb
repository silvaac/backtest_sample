{
 "cells": [
  {
   "cell_type": "markdown",
   "metadata": {},
   "source": [
    "# core\n",
    "\n",
    "> Fill in a module description here"
   ]
  },
  {
   "cell_type": "code",
   "execution_count": null,
   "metadata": {},
   "outputs": [],
   "source": [
    "#| default_exp core"
   ]
  },
  {
   "cell_type": "code",
   "execution_count": null,
   "metadata": {},
   "outputs": [
    {
     "name": "stdout",
     "output_type": "stream",
     "text": [
      "The autoreload extension is already loaded. To reload it, use:\n",
      "  %reload_ext autoreload\n",
      "The autoreload extension is already loaded. To reload it, use:\n",
      "  %reload_ext autoreload\n"
     ]
    }
   ],
   "source": [
    "#| hide\n",
    "%load_ext autoreload\n",
    "%autoreload 2"
   ]
  },
  {
   "cell_type": "code",
   "execution_count": null,
   "metadata": {},
   "outputs": [],
   "source": [
    "#| hide\n",
    "from nbdev.showdoc import *"
   ]
  },
  {
   "cell_type": "code",
   "execution_count": null,
   "metadata": {},
   "outputs": [],
   "source": [
    "#| export\n",
    "def foo(): pass"
   ]
  },
  {
   "cell_type": "code",
   "execution_count": null,
   "metadata": {},
   "outputs": [],
   "source": [
    "from backtest_sample.data_interface import *"
   ]
  },
  {
   "cell_type": "code",
   "execution_count": null,
   "metadata": {},
   "outputs": [
    {
     "name": "stderr",
     "output_type": "stream",
     "text": [
      "\r[*********************100%***********************]  1 of 1 completed"
     ]
    },
    {
     "name": "stdout",
     "output_type": "stream",
     "text": [
      "                    Open          High  ...     Adj Close       Volume\n",
      "Date                                    ...                           \n",
      "2014-09-17    465.864014    468.174011  ...    457.334015     21056800\n",
      "2014-09-18    456.859985    456.859985  ...    424.440002     34483200\n",
      "2014-09-19    424.102997    427.834991  ...    394.795990     37919700\n",
      "2014-09-20    394.673004    423.295990  ...    408.903992     36863600\n",
      "2014-09-21    408.084991    412.425995  ...    398.821014     26580100\n",
      "...                  ...           ...  ...           ...          ...\n",
      "2024-09-12  57343.171875  58534.359375  ...  58127.011719  33835707949\n",
      "2024-09-13  58130.324219  60648.023438  ...  60571.300781  32490528356\n",
      "2024-09-14  60569.117188  60656.722656  ...  60005.121094  16428405496\n",
      "2024-09-15  60000.726562  60381.917969  ...  59182.835938  18120960867\n",
      "2024-09-16  59141.949219  59195.609375  ...  57951.300781  33599461376\n",
      "\n",
      "[3653 rows x 6 columns]\n",
      "                    Open          High  ...     Adj Close       Volume\n",
      "Date                                    ...                           \n",
      "2014-09-17    465.864014    468.174011  ...    457.334015     21056800\n",
      "2014-09-18    456.859985    456.859985  ...    424.440002     34483200\n",
      "2014-09-19    424.102997    427.834991  ...    394.795990     37919700\n",
      "2014-09-20    394.673004    423.295990  ...    408.903992     36863600\n",
      "2014-09-21    408.084991    412.425995  ...    398.821014     26580100\n",
      "...                  ...           ...  ...           ...          ...\n",
      "2024-09-12  57343.171875  58534.359375  ...  58127.011719  33835707949\n",
      "2024-09-13  58130.324219  60648.023438  ...  60571.300781  32490528356\n",
      "2024-09-14  60569.117188  60656.722656  ...  60005.121094  16428405496\n",
      "2024-09-15  60000.726562  60381.917969  ...  59182.835938  18120960867\n",
      "2024-09-16  59141.949219  59195.609375  ...  57951.300781  33599461376\n",
      "\n",
      "[3653 rows x 6 columns]\n"
     ]
    },
    {
     "name": "stderr",
     "output_type": "stream",
     "text": [
      "\n"
     ]
    }
   ],
   "source": [
    "import_module = get_data()\n",
    "df = import_module('BTC-USD').sim_data()\n",
    "print(df)"
   ]
  },
  {
   "cell_type": "code",
   "execution_count": null,
   "metadata": {},
   "outputs": [],
   "source": [
    "er = get_er()\n",
    "prm = {}\n",
    "prm['mawin'] = 10\n",
    "prm['sdwin'] = 30\n",
    "yHat = er(df.values,prm).y_hat()\n",
    "risk = get_risk()\n",
    "prm = {}\n",
    "prm['wvol'] = 60\n",
    "riskHat = risk(df.values,prm).risk_hat()"
   ]
  },
  {
   "cell_type": "code",
   "execution_count": null,
   "metadata": {},
   "outputs": [
    {
     "name": "stdout",
     "output_type": "stream",
     "text": [
      "{'TC': 108.49373707874257}\n",
      "{'TC': 108.49373707874257}\n"
     ]
    }
   ],
   "source": [
    "tc_func = get_tc()\n",
    "prm['tc_slope'] = 1e3\n",
    "prm['tc_bias'] = 100\n",
    "tcc = tc_func(df.values,prm)\n",
    "print(tcc.TC(100))"
   ]
  },
  {
   "cell_type": "code",
   "execution_count": null,
   "metadata": {},
   "outputs": [
    {
     "name": "stdout",
     "output_type": "stream",
     "text": [
      "{'N': 22}\n",
      "{'N': 22}\n"
     ]
    }
   ],
   "source": [
    "prm = {}\n",
    "prm['target_vol'] = 0.005\n",
    "prm['AUM'] = 10e6\n",
    "alloc = get_pm()\n",
    "pm = alloc(df.values,prm)\n",
    "print(pm.allocation(1,0.04))"
   ]
  },
  {
   "cell_type": "code",
   "execution_count": null,
   "metadata": {},
   "outputs": [],
   "source": [
    "when_trade = 'open'\n",
    "start_date = 100\n",
    "prm['mawin'] = 10\n",
    "prm['sdwin'] = 30\n",
    "prm['wvol']  = 60\n",
    "prm['target_vol'] = 0.005\n",
    "prm['AUM'] = 10e6\n",
    "prm['tc_slope'] = 1e3\n",
    "prm['tc_bias'] = 100\n",
    "time_line = df.index.values\n",
    "model_prices = df.values # ohlcav\n",
    "if when_trade == 'open':\n",
    "    trade_price = 0 \n",
    "else:\n",
    "    trade_price = 4\n",
    "position = []\n",
    "target_er   = []\n",
    "target_risk = []\n",
    "# Create a 2D array with 3 rows and 4 columns, initialized to None\n",
    "position = []\n",
    "#[t_trade,t_n_new,t_yHat['y_hat'],t_rHat['vol_hat'],float(t_scale),pnl0,pnl]\n",
    "colnames = ['trade','position','ER','Risk','scale','pnl0','pnl']\n",
    "items = [0 for _ in range(len(colnames))]\n",
    "t_loop = time_line#[:(start_date+100)]\n",
    "for tt in t_loop:\n",
    "    if tt<time_line[start_date]:\n",
    "       position.append(items)\n",
    "       continue\n",
    "    # PM\n",
    "    t_data = model_prices[time_line<tt,:]\n",
    "    t_yHat = er(t_data,prm).y_hat()\n",
    "    t_rHat = risk(t_data,prm).risk_hat()\n",
    "    t_p   = t_data[-1,4]\n",
    "    t_pp  = t_data[-2,4]\n",
    "    t_tp  = t_data[-1,trade_price]\n",
    "    t_tpp = t_data[-2,trade_price]\n",
    "    t_n_new = pm.allocation(t_yHat['y_hat'],t_rHat['vol_hat'],t_p)\n",
    "    #t_scale = round(prm['AUM']*prm['target_vol']/t_p,4)\n",
    "    #t_n_new = round(t_scale*t_yHat['y_hat']/t_rHat['vol_hat'])\n",
    "\n",
    "    #print(t_n)\n",
    "    # Accountant\n",
    "    n_t_minus1 = position[-2][1]\n",
    "    n_t = position[-1][1]\n",
    "    trade_t = n_t*t_tp # N(t)*trade_price(t)\n",
    "    model_t = n_t*t_p # N(t)*model_price(t)\n",
    "    trade_t_minus1 = n_t_minus1*t_tp\n",
    "    model_t_minus1 = n_t_minus1*t_pp\n",
    "    pnl0 = (model_t-trade_t)+(trade_t_minus1-model_t_minus1)\n",
    "    tc0  = (n_t-n_t_minus1)\n",
    "    tcc    = tc_func(t_data,prm).TC(tc0)\n",
    "    pnl = pnl0-tcc['TC']\n",
    "    #target position  \n",
    "    t_trade = t_n_new['N'] - n_t\n",
    "\n",
    "    position.append([t_trade,t_n_new['N'],t_yHat['y_hat'],t_rHat['vol_hat'],float(t_scale),float(pnl0),float(pnl)])"
   ]
  },
  {
   "cell_type": "code",
   "execution_count": null,
   "metadata": {},
   "outputs": [
    {
     "data": {
      "image/png": "[encoded data removed]",
      "text/plain": [
       "<Figure size 640x480 with 1 Axes>"
      ]
     },
     "metadata": {},
     "output_type": "display_data"
    }
   ],
   "source": [
    "import matplotlib.pyplot as plt\n",
    "import numpy as np\n",
    "\n",
    "# Plot the data\n",
    "plt.plot(t_loop,np.cumsum(np.array(position)[:,-1]))\n",
    "\n",
    "# Add labels and title\n",
    "plt.xlabel('X-axis')\n",
    "plt.ylabel('Y-axis')\n",
    "plt.title('Simple Plot of X vs Y')\n",
    "\n",
    "# Show the plot\n",
    "plt.show()\n"
   ]
  },
  {
   "cell_type": "code",
   "execution_count": null,
   "metadata": {},
   "outputs": [
    {
     "data": {
      "text/html": [
       "<div>\n",
       "<style scoped>\n",
       "    .dataframe tbody tr th:only-of-type {\n",
       "        vertical-align: middle;\n",
       "    }\n",
       "\n",
       "    .dataframe tbody tr th {\n",
       "        vertical-align: top;\n",
       "    }\n",
       "\n",
       "    .dataframe thead th {\n",
       "        text-align: right;\n",
       "    }\n",
       "</style>\n",
       "<table border=\"1\" class=\"dataframe\">\n",
       "  <thead>\n",
       "    <tr style=\"text-align: right;\">\n",
       "      <th></th>\n",
       "      <th>trade</th>\n",
       "      <th>position</th>\n",
       "      <th>ER</th>\n",
       "      <th>Risk</th>\n",
       "      <th>scale</th>\n",
       "      <th>pnl0</th>\n",
       "      <th>pnl</th>\n",
       "    </tr>\n",
       "  </thead>\n",
       "  <tbody>\n",
       "    <tr>\n",
       "      <th>2014-09-17</th>\n",
       "      <td>0</td>\n",
       "      <td>0</td>\n",
       "      <td>0.0000</td>\n",
       "      <td>0.0000</td>\n",
       "      <td>0.0000</td>\n",
       "      <td>0.000000</td>\n",
       "      <td>0.000000</td>\n",
       "    </tr>\n",
       "    <tr>\n",
       "      <th>2014-09-18</th>\n",
       "      <td>0</td>\n",
       "      <td>0</td>\n",
       "      <td>0.0000</td>\n",
       "      <td>0.0000</td>\n",
       "      <td>0.0000</td>\n",
       "      <td>0.000000</td>\n",
       "      <td>0.000000</td>\n",
       "    </tr>\n",
       "    <tr>\n",
       "      <th>2014-09-19</th>\n",
       "      <td>0</td>\n",
       "      <td>0</td>\n",
       "      <td>0.0000</td>\n",
       "      <td>0.0000</td>\n",
       "      <td>0.0000</td>\n",
       "      <td>0.000000</td>\n",
       "      <td>0.000000</td>\n",
       "    </tr>\n",
       "    <tr>\n",
       "      <th>2014-09-20</th>\n",
       "      <td>0</td>\n",
       "      <td>0</td>\n",
       "      <td>0.0000</td>\n",
       "      <td>0.0000</td>\n",
       "      <td>0.0000</td>\n",
       "      <td>0.000000</td>\n",
       "      <td>0.000000</td>\n",
       "    </tr>\n",
       "    <tr>\n",
       "      <th>2014-09-21</th>\n",
       "      <td>0</td>\n",
       "      <td>0</td>\n",
       "      <td>0.0000</td>\n",
       "      <td>0.0000</td>\n",
       "      <td>0.0000</td>\n",
       "      <td>0.000000</td>\n",
       "      <td>0.000000</td>\n",
       "    </tr>\n",
       "    <tr>\n",
       "      <th>...</th>\n",
       "      <td>...</td>\n",
       "      <td>...</td>\n",
       "      <td>...</td>\n",
       "      <td>...</td>\n",
       "      <td>...</td>\n",
       "      <td>...</td>\n",
       "      <td>...</td>\n",
       "    </tr>\n",
       "    <tr>\n",
       "      <th>2024-09-12</th>\n",
       "      <td>3</td>\n",
       "      <td>0</td>\n",
       "      <td>0.0012</td>\n",
       "      <td>0.0308</td>\n",
       "      <td>0.8448</td>\n",
       "      <td>915.039062</td>\n",
       "      <td>814.951086</td>\n",
       "    </tr>\n",
       "    <tr>\n",
       "      <th>2024-09-13</th>\n",
       "      <td>-2</td>\n",
       "      <td>-2</td>\n",
       "      <td>-0.0673</td>\n",
       "      <td>0.0307</td>\n",
       "      <td>0.8448</td>\n",
       "      <td>0.000000</td>\n",
       "      <td>-100.264222</td>\n",
       "    </tr>\n",
       "    <tr>\n",
       "      <th>2024-09-14</th>\n",
       "      <td>8</td>\n",
       "      <td>6</td>\n",
       "      <td>0.2064</td>\n",
       "      <td>0.0300</td>\n",
       "      <td>0.8448</td>\n",
       "      <td>-4881.953125</td>\n",
       "      <td>-4982.128923</td>\n",
       "    </tr>\n",
       "    <tr>\n",
       "      <th>2024-09-15</th>\n",
       "      <td>-2</td>\n",
       "      <td>4</td>\n",
       "      <td>0.1360</td>\n",
       "      <td>0.0300</td>\n",
       "      <td>0.8448</td>\n",
       "      <td>-3379.609375</td>\n",
       "      <td>-3480.283094</td>\n",
       "    </tr>\n",
       "    <tr>\n",
       "      <th>2024-09-16</th>\n",
       "      <td>2</td>\n",
       "      <td>6</td>\n",
       "      <td>0.2066</td>\n",
       "      <td>0.0300</td>\n",
       "      <td>0.8448</td>\n",
       "      <td>-3297.929688</td>\n",
       "      <td>-3398.099201</td>\n",
       "    </tr>\n",
       "  </tbody>\n",
       "</table>\n",
       "<p>3653 rows × 7 columns</p>\n",
       "</div>"
      ],
      "text/plain": [
       "            trade  position      ER    Risk   scale         pnl0          pnl\n",
       "2014-09-17      0         0  0.0000  0.0000  0.0000     0.000000     0.000000\n",
       "2014-09-18      0         0  0.0000  0.0000  0.0000     0.000000     0.000000\n",
       "2014-09-19      0         0  0.0000  0.0000  0.0000     0.000000     0.000000\n",
       "2014-09-20      0         0  0.0000  0.0000  0.0000     0.000000     0.000000\n",
       "2014-09-21      0         0  0.0000  0.0000  0.0000     0.000000     0.000000\n",
       "...           ...       ...     ...     ...     ...          ...          ...\n",
       "2024-09-12      3         0  0.0012  0.0308  0.8448   915.039062   814.951086\n",
       "2024-09-13     -2        -2 -0.0673  0.0307  0.8448     0.000000  -100.264222\n",
       "2024-09-14      8         6  0.2064  0.0300  0.8448 -4881.953125 -4982.128923\n",
       "2024-09-15     -2         4  0.1360  0.0300  0.8448 -3379.609375 -3480.283094\n",
       "2024-09-16      2         6  0.2066  0.0300  0.8448 -3297.929688 -3398.099201\n",
       "\n",
       "[3653 rows x 7 columns]"
      ]
     },
     "execution_count": null,
     "metadata": {},
     "output_type": "execute_result"
    }
   ],
   "source": [
    "import pandas as pd\n",
    "pd.DataFrame(position,index=time_line,columns=colnames)"
   ]
  },
  {
   "cell_type": "code",
   "execution_count": null,
   "metadata": {},
   "outputs": [
    {
     "data": {
      "text/plain": [
       "[2, 6, 0.2066, 0.03, 0.8448, -3297.9296875, -3398.099201161006]"
      ]
     },
     "execution_count": null,
     "metadata": {},
     "output_type": "execute_result"
    }
   ],
   "source": [
    "position[-1]"
   ]
  },
  {
   "cell_type": "code",
   "execution_count": null,
   "metadata": {},
   "outputs": [],
   "source": [
    "#| hide\n",
    "import nbdev; nbdev.nbdev_export()"
   ]
  }
 ],
 "metadata": {
  "kernelspec": {
   "display_name": "python3",
   "language": "python",
   "name": "python3"
  }
 },
 "nbformat": 4,
 "nbformat_minor": 4
}
