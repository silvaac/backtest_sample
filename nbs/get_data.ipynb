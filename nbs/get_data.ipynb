{
 "cells": [
  {
   "cell_type": "code",
   "execution_count": 1,
   "metadata": {},
   "outputs": [],
   "source": [
    "#| default_exp get_data"
   ]
  },
  {
   "cell_type": "code",
   "execution_count": 2,
   "metadata": {},
   "outputs": [],
   "source": [
    "#| hide\n",
    "%load_ext autoreload\n",
    "%autoreload 2"
   ]
  },
  {
   "cell_type": "markdown",
   "metadata": {},
   "source": [
    "# Main data interface"
   ]
  },
  {
   "cell_type": "markdown",
   "metadata": {},
   "source": [
    "Idea is collect the different interface into one place. If one wants to code one more interface, one just needs to add code to \"data\" folder."
   ]
  },
  {
   "cell_type": "code",
   "execution_count": 3,
   "metadata": {},
   "outputs": [],
   "source": [
    "#| export\n",
    "import importlib\n",
    "import os"
   ]
  },
  {
   "cell_type": "code",
   "execution_count": 4,
   "metadata": {},
   "outputs": [],
   "source": [
    "#| export\n",
    "def get_data(source=\"yahoo\"):\n",
    "    \"\"\"\n",
    "    Dynamically import a class from a file.\n",
    "    \n",
    "    Parameters:\n",
    "    - source: The name of the class within data (and the file without .py extension).\n",
    "    Note the convention: class and file name are equal\n",
    "    \n",
    "    Returns:\n",
    "    - Ouput the class.\n",
    "    \"\"\"\n",
    "    # Construct the module name from the folder path and class name\n",
    "    module_name = f\"backtest_sample.data.{source}\"\n",
    "    \n",
    "    try:\n",
    "        # Dynamically import the module\n",
    "        module = importlib.import_module(module_name)\n",
    "        \n",
    "        # Get the class from the module\n",
    "        cls = getattr(module, source)\n",
    "        \n",
    "        # Create an instance of the class\n",
    "        #instance = cls()\n",
    "        \n",
    "        # Call the output method and return the result\n",
    "        return cls\n",
    "    except ModuleNotFoundError:\n",
    "        raise ValueError(f\"Module '{module_name}' not found.\")\n",
    "    except AttributeError:\n",
    "        raise ValueError(f\"Class '{class_name}' not found in module '{module_name}'.\")\n",
    "\n",
    "\n"
   ]
  },
  {
   "cell_type": "markdown",
   "metadata": {},
   "source": [
    "## Example"
   ]
  },
  {
   "cell_type": "code",
   "execution_count": 7,
   "metadata": {},
   "outputs": [
    {
     "name": "stderr",
     "output_type": "stream",
     "text": [
      "\r[*********************100%***********************]  1 of 1 completed"
     ]
    },
    {
     "name": "stdout",
     "output_type": "stream",
     "text": [
      "                    Open          High  ...     Adj Close       Volume\n",
      "Date                                    ...                           \n",
      "2014-09-17    465.864014    468.174011  ...    457.334015     21056800\n",
      "2014-09-18    456.859985    456.859985  ...    424.440002     34483200\n",
      "2014-09-19    424.102997    427.834991  ...    394.795990     37919700\n",
      "2014-09-20    394.673004    423.295990  ...    408.903992     36863600\n",
      "2014-09-21    408.084991    412.425995  ...    398.821014     26580100\n",
      "...                  ...           ...  ...           ...          ...\n",
      "2024-09-11  57650.289062  57991.320312  ...  57343.171875  37049062672\n",
      "2024-09-12  57343.171875  58534.359375  ...  58127.011719  33835707949\n",
      "2024-09-13  58130.324219  60648.023438  ...  60571.300781  32490528356\n",
      "2024-09-14  60569.117188  60656.722656  ...  60005.121094  16428405496\n",
      "2024-09-15  60007.734375  60334.812500  ...  60334.812500  13492475904\n",
      "\n",
      "[3652 rows x 6 columns]\n",
      "                    Open          High  ...     Adj Close       Volume\n",
      "Date                                    ...                           \n",
      "2014-09-17    465.864014    468.174011  ...    457.334015     21056800\n",
      "2014-09-18    456.859985    456.859985  ...    424.440002     34483200\n",
      "2014-09-19    424.102997    427.834991  ...    394.795990     37919700\n",
      "2014-09-20    394.673004    423.295990  ...    408.903992     36863600\n",
      "2014-09-21    408.084991    412.425995  ...    398.821014     26580100\n",
      "...                  ...           ...  ...           ...          ...\n",
      "2024-09-11  57650.289062  57991.320312  ...  57343.171875  37049062672\n",
      "2024-09-12  57343.171875  58534.359375  ...  58127.011719  33835707949\n",
      "2024-09-13  58130.324219  60648.023438  ...  60571.300781  32490528356\n",
      "2024-09-14  60569.117188  60656.722656  ...  60005.121094  16428405496\n",
      "2024-09-15  60007.734375  60334.812500  ...  60334.812500  13492475904\n",
      "\n",
      "[3652 rows x 6 columns]\n"
     ]
    },
    {
     "name": "stderr",
     "output_type": "stream",
     "text": [
      "\n"
     ]
    }
   ],
   "source": [
    "#| eval: false\n",
    "import_module = get_data()\n",
    "df = import_module('BTC-USD').sim_data()\n",
    "print(df)"
   ]
  }
 ],
 "metadata": {
  "language_info": {
   "name": "python"
  }
 },
 "nbformat": 4,
 "nbformat_minor": 2
}
