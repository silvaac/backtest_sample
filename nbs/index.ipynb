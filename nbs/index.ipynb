{
 "cells": [
  {
   "cell_type": "code",
   "execution_count": null,
   "metadata": {},
   "outputs": [],
   "source": [
    "#| hide\n",
    "from backtest_sample.core import *\n",
    "from backtest_sample.data_interface import *\n",
    "from backtest_sample.backtest_loop import backtest"
   ]
  },
  {
   "cell_type": "markdown",
   "metadata": {},
   "source": [
    "# backtest_sample"
   ]
  },
  {
   "cell_type": "markdown",
   "metadata": {},
   "source": [
    "This is a simple illustration of how to build a flexible backtesting environment. Different models can be added by adding new classes to folders, er, risk, pm, and tc. A general interface (data_interface.py) can be used to call these different models, making it easy to change them. The actual backtest loop is performend by the backtest memeber function within backtest_loop.py.\n",
    "\n",
    "The code is basic, lacks tests, and was not extensively debugged. I intended to present a toy program that introduces the basic backtesting features. Substantial work remains to produce a fully functional backtesting infrastructure.\n",
    "\n",
    "A parameter optimization infrastructure is the most substantial feature that needs to be added. This can be added within the backtest loop to optimize only using past data, and I intend to add it in the future.\n",
    "\n",
    "One final observation: the data schema is fundamental for such a program. I assume we are downloading Yahoo Finance's data (“OHLCAV”). Throughout the code, this data convention is used without further checks. This is something that needs to be addressed in professional backtest code."
   ]
  },
  {
   "cell_type": "markdown",
   "metadata": {},
   "source": [
    "## Developer Guide"
   ]
  },
  {
   "cell_type": "markdown",
   "metadata": {},
   "source": [
    "If you are new to using `nbdev` here are some useful pointers to get you started."
   ]
  },
  {
   "cell_type": "markdown",
   "metadata": {},
   "source": [
    "### Install backtest_sample in Development mode"
   ]
  },
  {
   "cell_type": "markdown",
   "metadata": {},
   "source": [
    "```sh\n",
    "# make sure backtest_sample package is installed in development mode\n",
    "$ pip install -e .\n",
    "\n",
    "# make changes under nbs/ directory\n",
    "# ...\n",
    "\n",
    "# compile to have changes apply to backtest_sample\n",
    "$ nbdev_prepare\n",
    "```"
   ]
  },
  {
   "cell_type": "markdown",
   "metadata": {},
   "source": [
    "## Usage"
   ]
  },
  {
   "cell_type": "markdown",
   "metadata": {},
   "source": [
    "### Installation"
   ]
  },
  {
   "cell_type": "markdown",
   "metadata": {},
   "source": [
    "Install latest from the GitHub [repository][repo]:\n",
    "\n",
    "```sh\n",
    "$ pip install git+https://github.com/silvaac/backtest_sample.git\n",
    "```\n",
    "\n",
    "[repo]: https://github.com/silvaac/backtest_sample\n",
    "[docs]: https://www.idatafactory.com/backtest_sample/"
   ]
  },
  {
   "cell_type": "markdown",
   "metadata": {},
   "source": [
    "### Documentation"
   ]
  },
  {
   "cell_type": "markdown",
   "metadata": {},
   "source": [
    "Documentation can be found hosted on this GitHub [repository][repo]'s [pages][docs].\n",
    "\n",
    "[repo]: https://github.com/silvaac/backtest_sample\n",
    "[docs]: https://www.idatafactory.com/backtest_sample/"
   ]
  },
  {
   "cell_type": "markdown",
   "metadata": {},
   "source": [
    "## How to use"
   ]
  },
  {
   "cell_type": "markdown",
   "metadata": {},
   "source": [
    "### Get data \n",
    "You can only get data from yahoo finance at the moment."
   ]
  },
  {
   "cell_type": "code",
   "execution_count": null,
   "metadata": {},
   "outputs": [],
   "source": [
    "from backtest_sample.data_interface import *\n",
    "from backtest_sample.backtest_loop import backtest"
   ]
  },
  {
   "cell_type": "markdown",
   "metadata": {},
   "source": []
  },
  {
   "cell_type": "code",
   "execution_count": null,
   "metadata": {},
   "outputs": [
    {
     "name": "stderr",
     "output_type": "stream",
     "text": [
      "\r[*********************100%***********************]  1 of 1 completed"
     ]
    },
    {
     "name": "stdout",
     "output_type": "stream",
     "text": [
      "                    Open          High  ...     Adj Close       Volume\n",
      "Date                                    ...                           \n",
      "2024-09-13  58130.324219  60648.023438  ...  60571.300781  32490528356\n",
      "2024-09-14  60569.117188  60656.722656  ...  60005.121094  16428405496\n",
      "2024-09-15  60000.726562  60381.917969  ...  59182.835938  18120960867\n",
      "2024-09-16  59185.226562  59205.511719  ...  58192.507812  32032822113\n",
      "2024-09-17  58204.093750  61270.953125  ...  60976.371094  34488045568\n",
      "\n",
      "[5 rows x 6 columns]\n",
      "                    Open          High  ...     Adj Close       Volume\n",
      "Date                                    ...                           \n",
      "2024-09-13  58130.324219  60648.023438  ...  60571.300781  32490528356\n",
      "2024-09-14  60569.117188  60656.722656  ...  60005.121094  16428405496\n",
      "2024-09-15  60000.726562  60381.917969  ...  59182.835938  18120960867\n",
      "2024-09-16  59185.226562  59205.511719  ...  58192.507812  32032822113\n",
      "2024-09-17  58204.093750  61270.953125  ...  60976.371094  34488045568\n",
      "\n",
      "[5 rows x 6 columns]\n"
     ]
    },
    {
     "name": "stderr",
     "output_type": "stream",
     "text": [
      "\n"
     ]
    }
   ],
   "source": [
    "import_module = get_data()\n",
    "df = import_module('BTC-USD').sim_data()\n",
    "print(df.tail())"
   ]
  },
  {
   "cell_type": "markdown",
   "metadata": {},
   "source": [
    "### Parameters\n",
    "\n",
    "Select the parameters of the backtest and the model.\n"
   ]
  },
  {
   "cell_type": "code",
   "execution_count": null,
   "metadata": {},
   "outputs": [],
   "source": [
    "# parameters\n",
    "prm = {}\n",
    "## General parameters\n",
    "prm['when_trade'] = 'open' # when to trade\n",
    "prm['start_date'] = 100    # how many periods (days here) to skip before trading\n",
    "## ER model\n",
    "prm['er_member_func'] = get_er() # Select the model class\n",
    "# ER model parameters (see model for detail)\n",
    "prm['mawin'] = 10\n",
    "prm['sdwin'] = 30\n",
    "## Risk model\n",
    "prm['risk_member_func'] = get_risk() # Select the model class\n",
    "# Risk model parameter (see model for detail)\n",
    "prm['wvol']  = 60\n",
    "## PM allocation model\n",
    "prm['pm_member_func'] = get_pm() # Select the model class\n",
    "# PM parameters (see model for detail)\n",
    "prm['target_vol'] = 0.005 # target volatility per backtesting step (daily here)\n",
    "prm['AUM'] = 10e6  # Investment capital in the currency of the data ($ here)\n",
    "## TC model parameters\n",
    "prm['tc_member_func'] = get_tc() # Select the model class\n",
    "# TC parameters (see model for detail)\n",
    "prm['tc_slope'] = 1e3\n",
    "prm['tc_bias'] = 100\n"
   ]
  },
  {
   "cell_type": "markdown",
   "metadata": {},
   "source": [
    "### Run the backtest\n",
    "Pass the parameters and the data. Output is a dataframe with col:\n",
    "\n",
    "* trade: number of shares/contracts to be bought (>0) or sold (<0)\n",
    "* position: this is the target position for the next time period (here day)\n",
    "* er: expected return for the next time interval (here day)\n",
    "* vol: expected volatility for the next time interval (here day)\n",
    "* pnl0: profit or loss for the time interval without TC (here day)\n",
    "* pnl: profit or loss for the time interval including TC (here day)"
   ]
  },
  {
   "cell_type": "code",
   "execution_count": null,
   "metadata": {},
   "outputs": [
    {
     "name": "stdout",
     "output_type": "stream",
     "text": [
      "            trade  position      er     vol         pnl0          pnl\n",
      "2024-09-13     -2        -2 -0.0673  0.0307     0.000000  -100.264222\n",
      "2024-09-14      8         6  0.2064  0.0300 -4881.953125 -4982.128923\n",
      "2024-09-15     -2         4  0.1360  0.0300 -3379.609375 -3480.283094\n",
      "2024-09-16      2         6  0.2066  0.0300 -3297.929688 -3398.099201\n",
      "2024-09-17      2         8  0.2926  0.0301 -5946.750000 -6046.919490\n",
      "            trade  position      er     vol         pnl0          pnl\n",
      "2024-09-13     -2        -2 -0.0673  0.0307     0.000000  -100.264222\n",
      "2024-09-14      8         6  0.2064  0.0300 -4881.953125 -4982.128923\n",
      "2024-09-15     -2         4  0.1360  0.0300 -3379.609375 -3480.283094\n",
      "2024-09-16      2         6  0.2066  0.0300 -3297.929688 -3398.099201\n",
      "2024-09-17      2         8  0.2926  0.0301 -5946.750000 -6046.919490\n"
     ]
    }
   ],
   "source": [
    "bkt = backtest(df,prm)\n",
    "print(bkt.tail())"
   ]
  },
  {
   "cell_type": "markdown",
   "metadata": {},
   "source": [
    "Sample plot of the data:"
   ]
  },
  {
   "cell_type": "code",
   "execution_count": null,
   "metadata": {},
   "outputs": [
    {
     "data": {
      "image/png": "[encoded data removed]",
      "text/plain": [
       "<Figure size 640x480 with 1 Axes>"
      ]
     },
     "metadata": {},
     "output_type": "display_data"
    }
   ],
   "source": [
    "import matplotlib.pyplot as plt\n",
    "import numpy as np\n",
    "\n",
    "# Plot the data\n",
    "plt.plot(bkt['pnl'].cumsum())\n",
    "\n",
    "# Add labels and title\n",
    "plt.xlabel('')\n",
    "plt.ylabel('$')\n",
    "plt.title('Performance')\n",
    "\n",
    "# Show the plot\n",
    "plt.show()"
   ]
  }
 ],
 "metadata": {
  "kernelspec": {
   "display_name": "python3",
   "language": "python",
   "name": "python3"
  }
 },
 "nbformat": 4,
 "nbformat_minor": 4
}
