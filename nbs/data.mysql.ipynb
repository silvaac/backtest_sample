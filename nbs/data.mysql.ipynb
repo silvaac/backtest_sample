{
 "cells": [
  {
   "cell_type": "code",
   "execution_count": null,
   "metadata": {},
   "outputs": [],
   "source": [
    "#| default_exp data.mysql"
   ]
  },
  {
   "cell_type": "code",
   "execution_count": null,
   "metadata": {},
   "outputs": [],
   "source": [
    "#| hide\n",
    "%load_ext autoreload\n",
    "%autoreload 2"
   ]
  },
  {
   "cell_type": "markdown",
   "metadata": {},
   "source": [
    "# Mysql data pull"
   ]
  },
  {
   "cell_type": "markdown",
   "metadata": {},
   "source": [
    "This is a sample code that does not work!!! My goal here is to illustrate how a possible interface would look like...."
   ]
  },
  {
   "cell_type": "code",
   "execution_count": null,
   "metadata": {},
   "outputs": [],
   "source": [
    "#| export\n",
    "from sqlalchemy import create_engine\n",
    "import pandas as pd"
   ]
  },
  {
   "cell_type": "code",
   "execution_count": null,
   "metadata": {},
   "outputs": [],
   "source": [
    "#| export\n",
    "class mysql:\n",
    "    def __init__(self,ticker,start_date=\"1900-01-01\"):\n",
    "        self.ticker = ticker\n",
    "        self.start_date = start_date\n",
    "        self.data = None\n",
    "    def _read_mysql(self): # DID NOT CHECK THIS: JUST A PLACE HOLDER\n",
    "        \"\"\"\n",
    "        Reads data from a SQL Server database.\n",
    "\n",
    "        Args:\n",
    "            query: The SQL query to execute. (\"SELECT * FROM table....\")\n",
    "\n",
    "        Returns:\n",
    "            A pandas DataFrame containing the query results.\n",
    "        \"\"\"\n",
    "        sql_server_conn_string = \"\" # DOTO\n",
    "        query = f\"SELECT * from prices where ticker={self.ticker} and datetime>\\\"{self.start_date}\\\"\"\n",
    "        try:\n",
    "            engine = create_engine(self.sql_server_conn_string)\n",
    "            self.data = pd.read_sql(query, engine)\n",
    "        except Exception as e:\n",
    "            print(f\"Error reading data from SQL Server: {e}\")\n",
    "\n",
    "    def raw_data(self):\n",
    "        self._read_mysql()    \n",
    "        return self.data\n",
    "    def sim_data(self):\n",
    "         if self.data is None:\n",
    "            self._read_mysql() \n",
    "        ### DO SOMETHING ###\n",
    "        ### return data...."
   ]
  }
 ],
 "metadata": {},
 "nbformat": 4,
 "nbformat_minor": 2
}
